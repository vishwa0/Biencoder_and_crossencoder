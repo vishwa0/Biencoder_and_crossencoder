{
 "cells": [
  {
   "cell_type": "code",
   "execution_count": 21,
   "metadata": {
    "id": "s_WmMRdby95-"
   },
   "outputs": [],
   "source": [
    "# Import necessary libraries\n",
    "import pandas as pd\n",
    "import numpy as np\n",
    "import pandas as pd\n",
    "import seaborn as sns\n",
    "import matplotlib.pyplot as plt\n",
    "import re\n",
    "from nltk.tokenize import word_tokenize\n",
    "from nltk.probability import FreqDist"
   ]
  },
  {
   "cell_type": "code",
   "execution_count": 22,
   "metadata": {
    "id": "yieXEuRDzAek"
   },
   "outputs": [],
   "source": [
    "# Read the data from a CSV file and select relevant columns\n",
    "df_queries = pd.read_csv('antique_queries.csv')\n",
    "df_queries = df_queries[['query_id','text']]\n",
    "\n",
    "df_docs = pd.read_csv('antique_data.csv')\n",
    "df_docs = df_docs[['doc_id','text']]\n",
    "\n",
    "df_qrel = pd.read_csv('antique_qrels.csv')\n",
    "df_qrel = df_qrel[['query_id','doc_id','relevence']]"
   ]
  },
  {
   "cell_type": "code",
   "execution_count": 23,
   "metadata": {
    "colab": {
     "base_uri": "https://localhost:8080/",
     "height": 112
    },
    "id": "Y3zBmBM1q037",
    "outputId": "4b1e9c96-fa6b-44ea-ab92-389cc6e8d0b2"
   },
   "outputs": [
    {
     "data": {
      "text/html": [
       "<div>\n",
       "<style scoped>\n",
       "    .dataframe tbody tr th:only-of-type {\n",
       "        vertical-align: middle;\n",
       "    }\n",
       "\n",
       "    .dataframe tbody tr th {\n",
       "        vertical-align: top;\n",
       "    }\n",
       "\n",
       "    .dataframe thead th {\n",
       "        text-align: right;\n",
       "    }\n",
       "</style>\n",
       "<table border=\"1\" class=\"dataframe\">\n",
       "  <thead>\n",
       "    <tr style=\"text-align: right;\">\n",
       "      <th></th>\n",
       "      <th>doc_id</th>\n",
       "      <th>text</th>\n",
       "    </tr>\n",
       "  </thead>\n",
       "  <tbody>\n",
       "    <tr>\n",
       "      <th>0</th>\n",
       "      <td>2020338_0</td>\n",
       "      <td>A small group of politicians believed strongly...</td>\n",
       "    </tr>\n",
       "    <tr>\n",
       "      <th>1</th>\n",
       "      <td>2020338_1</td>\n",
       "      <td>Because there is a lot of oil in Iraq.</td>\n",
       "    </tr>\n",
       "  </tbody>\n",
       "</table>\n",
       "</div>"
      ],
      "text/plain": [
       "      doc_id                                               text\n",
       "0  2020338_0  A small group of politicians believed strongly...\n",
       "1  2020338_1             Because there is a lot of oil in Iraq."
      ]
     },
     "execution_count": 23,
     "metadata": {},
     "output_type": "execute_result"
    }
   ],
   "source": [
    "df_docs.head(2)"
   ]
  },
  {
   "cell_type": "code",
   "execution_count": 24,
   "metadata": {
    "id": "iyXCxiL6qlxY"
   },
   "outputs": [],
   "source": [
    "df_docs.rename(columns={'text':'doc_text'},\n",
    "          inplace=True)"
   ]
  },
  {
   "cell_type": "code",
   "execution_count": 25,
   "metadata": {
    "id": "kdOaV4O4zAb_"
   },
   "outputs": [],
   "source": [
    "# Define a function to map relevance values to binary labels\n",
    "def map_values(value):\n",
    "    if value in [3, 4]:\n",
    "        return 1\n",
    "    else:\n",
    "        return 0"
   ]
  },
  {
   "cell_type": "code",
   "execution_count": 26,
   "metadata": {
    "colab": {
     "base_uri": "https://localhost:8080/",
     "height": 423
    },
    "id": "Mo7BTFygzAZa",
    "outputId": "50378314-b838-407e-ef33-ff48f300bc78"
   },
   "outputs": [
    {
     "data": {
      "text/html": [
       "<div>\n",
       "<style scoped>\n",
       "    .dataframe tbody tr th:only-of-type {\n",
       "        vertical-align: middle;\n",
       "    }\n",
       "\n",
       "    .dataframe tbody tr th {\n",
       "        vertical-align: top;\n",
       "    }\n",
       "\n",
       "    .dataframe thead th {\n",
       "        text-align: right;\n",
       "    }\n",
       "</style>\n",
       "<table border=\"1\" class=\"dataframe\">\n",
       "  <thead>\n",
       "    <tr style=\"text-align: right;\">\n",
       "      <th></th>\n",
       "      <th>query_id</th>\n",
       "      <th>doc_id</th>\n",
       "      <th>relevence</th>\n",
       "      <th>label</th>\n",
       "    </tr>\n",
       "  </thead>\n",
       "  <tbody>\n",
       "    <tr>\n",
       "      <th>0</th>\n",
       "      <td>1964316</td>\n",
       "      <td>1964316_5</td>\n",
       "      <td>4</td>\n",
       "      <td>1</td>\n",
       "    </tr>\n",
       "    <tr>\n",
       "      <th>1</th>\n",
       "      <td>1964316</td>\n",
       "      <td>1674088_11</td>\n",
       "      <td>1</td>\n",
       "      <td>0</td>\n",
       "    </tr>\n",
       "    <tr>\n",
       "      <th>2</th>\n",
       "      <td>1964316</td>\n",
       "      <td>1218838_13</td>\n",
       "      <td>2</td>\n",
       "      <td>0</td>\n",
       "    </tr>\n",
       "    <tr>\n",
       "      <th>3</th>\n",
       "      <td>1964316</td>\n",
       "      <td>1519022_15</td>\n",
       "      <td>2</td>\n",
       "      <td>0</td>\n",
       "    </tr>\n",
       "    <tr>\n",
       "      <th>4</th>\n",
       "      <td>1964316</td>\n",
       "      <td>3059341_5</td>\n",
       "      <td>2</td>\n",
       "      <td>0</td>\n",
       "    </tr>\n",
       "    <tr>\n",
       "      <th>...</th>\n",
       "      <td>...</td>\n",
       "      <td>...</td>\n",
       "      <td>...</td>\n",
       "      <td>...</td>\n",
       "    </tr>\n",
       "    <tr>\n",
       "      <th>6584</th>\n",
       "      <td>1262692</td>\n",
       "      <td>247023_6</td>\n",
       "      <td>3</td>\n",
       "      <td>1</td>\n",
       "    </tr>\n",
       "    <tr>\n",
       "      <th>6585</th>\n",
       "      <td>1262692</td>\n",
       "      <td>1499030_5</td>\n",
       "      <td>3</td>\n",
       "      <td>1</td>\n",
       "    </tr>\n",
       "    <tr>\n",
       "      <th>6586</th>\n",
       "      <td>1262692</td>\n",
       "      <td>2916758_0</td>\n",
       "      <td>3</td>\n",
       "      <td>1</td>\n",
       "    </tr>\n",
       "    <tr>\n",
       "      <th>6587</th>\n",
       "      <td>1262692</td>\n",
       "      <td>1105845_15</td>\n",
       "      <td>3</td>\n",
       "      <td>1</td>\n",
       "    </tr>\n",
       "    <tr>\n",
       "      <th>6588</th>\n",
       "      <td>1262692</td>\n",
       "      <td>3699008_1</td>\n",
       "      <td>2</td>\n",
       "      <td>0</td>\n",
       "    </tr>\n",
       "  </tbody>\n",
       "</table>\n",
       "<p>6589 rows × 4 columns</p>\n",
       "</div>"
      ],
      "text/plain": [
       "      query_id      doc_id  relevence  label\n",
       "0      1964316   1964316_5          4      1\n",
       "1      1964316  1674088_11          1      0\n",
       "2      1964316  1218838_13          2      0\n",
       "3      1964316  1519022_15          2      0\n",
       "4      1964316   3059341_5          2      0\n",
       "...        ...         ...        ...    ...\n",
       "6584   1262692    247023_6          3      1\n",
       "6585   1262692   1499030_5          3      1\n",
       "6586   1262692   2916758_0          3      1\n",
       "6587   1262692  1105845_15          3      1\n",
       "6588   1262692   3699008_1          2      0\n",
       "\n",
       "[6589 rows x 4 columns]"
      ]
     },
     "execution_count": 26,
     "metadata": {},
     "output_type": "execute_result"
    }
   ],
   "source": [
    "df_qrel['label'] = df_qrel['relevence'].apply(map_values)\n",
    "\n",
    "# Drop duplicate entries based on query_id and doc_id in the relevance data\n",
    "df_qrel1 = df_qrel.drop_duplicates(subset=['query_id','doc_id'])\n",
    "df_qrel1"
   ]
  },
  {
   "cell_type": "code",
   "execution_count": 27,
   "metadata": {
    "colab": {
     "base_uri": "https://localhost:8080/",
     "height": 423
    },
    "id": "yx5kTrdXzAW0",
    "outputId": "6e1d407b-ad33-418f-c5ca-60301fad0343"
   },
   "outputs": [
    {
     "data": {
      "text/html": [
       "<div>\n",
       "<style scoped>\n",
       "    .dataframe tbody tr th:only-of-type {\n",
       "        vertical-align: middle;\n",
       "    }\n",
       "\n",
       "    .dataframe tbody tr th {\n",
       "        vertical-align: top;\n",
       "    }\n",
       "\n",
       "    .dataframe thead th {\n",
       "        text-align: right;\n",
       "    }\n",
       "</style>\n",
       "<table border=\"1\" class=\"dataframe\">\n",
       "  <thead>\n",
       "    <tr style=\"text-align: right;\">\n",
       "      <th></th>\n",
       "      <th>query_id</th>\n",
       "      <th>text</th>\n",
       "      <th>doc_id</th>\n",
       "      <th>relevence</th>\n",
       "      <th>label</th>\n",
       "    </tr>\n",
       "  </thead>\n",
       "  <tbody>\n",
       "    <tr>\n",
       "      <th>0</th>\n",
       "      <td>3990512</td>\n",
       "      <td>how can we get concentration onsomething?</td>\n",
       "      <td>3990512_1</td>\n",
       "      <td>4</td>\n",
       "      <td>1</td>\n",
       "    </tr>\n",
       "    <tr>\n",
       "      <th>1</th>\n",
       "      <td>3990512</td>\n",
       "      <td>how can we get concentration onsomething?</td>\n",
       "      <td>2036065_1</td>\n",
       "      <td>2</td>\n",
       "      <td>0</td>\n",
       "    </tr>\n",
       "    <tr>\n",
       "      <th>2</th>\n",
       "      <td>3990512</td>\n",
       "      <td>how can we get concentration onsomething?</td>\n",
       "      <td>3265991_12</td>\n",
       "      <td>2</td>\n",
       "      <td>0</td>\n",
       "    </tr>\n",
       "    <tr>\n",
       "      <th>3</th>\n",
       "      <td>3990512</td>\n",
       "      <td>how can we get concentration onsomething?</td>\n",
       "      <td>3149758_0</td>\n",
       "      <td>1</td>\n",
       "      <td>0</td>\n",
       "    </tr>\n",
       "    <tr>\n",
       "      <th>4</th>\n",
       "      <td>3990512</td>\n",
       "      <td>how can we get concentration onsomething?</td>\n",
       "      <td>3990512_0</td>\n",
       "      <td>3</td>\n",
       "      <td>1</td>\n",
       "    </tr>\n",
       "    <tr>\n",
       "      <th>...</th>\n",
       "      <td>...</td>\n",
       "      <td>...</td>\n",
       "      <td>...</td>\n",
       "      <td>...</td>\n",
       "      <td>...</td>\n",
       "    </tr>\n",
       "    <tr>\n",
       "      <th>6584</th>\n",
       "      <td>1971899</td>\n",
       "      <td>what is masturbat***?</td>\n",
       "      <td>1971899_6</td>\n",
       "      <td>2</td>\n",
       "      <td>0</td>\n",
       "    </tr>\n",
       "    <tr>\n",
       "      <th>6585</th>\n",
       "      <td>1971899</td>\n",
       "      <td>what is masturbat***?</td>\n",
       "      <td>1971899_7</td>\n",
       "      <td>2</td>\n",
       "      <td>0</td>\n",
       "    </tr>\n",
       "    <tr>\n",
       "      <th>6586</th>\n",
       "      <td>1971899</td>\n",
       "      <td>what is masturbat***?</td>\n",
       "      <td>1971899_1</td>\n",
       "      <td>4</td>\n",
       "      <td>1</td>\n",
       "    </tr>\n",
       "    <tr>\n",
       "      <th>6587</th>\n",
       "      <td>1971899</td>\n",
       "      <td>what is masturbat***?</td>\n",
       "      <td>1971899_2</td>\n",
       "      <td>1</td>\n",
       "      <td>0</td>\n",
       "    </tr>\n",
       "    <tr>\n",
       "      <th>6588</th>\n",
       "      <td>1971899</td>\n",
       "      <td>what is masturbat***?</td>\n",
       "      <td>1971899_3</td>\n",
       "      <td>1</td>\n",
       "      <td>0</td>\n",
       "    </tr>\n",
       "  </tbody>\n",
       "</table>\n",
       "<p>6589 rows × 5 columns</p>\n",
       "</div>"
      ],
      "text/plain": [
       "      query_id                                       text      doc_id  \\\n",
       "0      3990512  how can we get concentration onsomething?   3990512_1   \n",
       "1      3990512  how can we get concentration onsomething?   2036065_1   \n",
       "2      3990512  how can we get concentration onsomething?  3265991_12   \n",
       "3      3990512  how can we get concentration onsomething?   3149758_0   \n",
       "4      3990512  how can we get concentration onsomething?   3990512_0   \n",
       "...        ...                                        ...         ...   \n",
       "6584   1971899                      what is masturbat***?   1971899_6   \n",
       "6585   1971899                      what is masturbat***?   1971899_7   \n",
       "6586   1971899                      what is masturbat***?   1971899_1   \n",
       "6587   1971899                      what is masturbat***?   1971899_2   \n",
       "6588   1971899                      what is masturbat***?   1971899_3   \n",
       "\n",
       "      relevence  label  \n",
       "0             4      1  \n",
       "1             2      0  \n",
       "2             2      0  \n",
       "3             1      0  \n",
       "4             3      1  \n",
       "...         ...    ...  \n",
       "6584          2      0  \n",
       "6585          2      0  \n",
       "6586          4      1  \n",
       "6587          1      0  \n",
       "6588          1      0  \n",
       "\n",
       "[6589 rows x 5 columns]"
      ]
     },
     "execution_count": 27,
     "metadata": {},
     "output_type": "execute_result"
    }
   ],
   "source": [
    "# Merge the query data and relevance data based on query_id\n",
    "merged_df = df_queries.merge(df_qrel1, on='query_id', how='left')\n",
    "\n",
    "# Drop duplicate entries based on query_id and doc_id in the merged data\n",
    "merged_df = merged_df.drop_duplicates(subset=['query_id','doc_id'])\n",
    "merged_df"
   ]
  },
  {
   "cell_type": "code",
   "execution_count": 28,
   "metadata": {
    "colab": {
     "base_uri": "https://localhost:8080/"
    },
    "id": "bMfp4XcbzAUQ",
    "outputId": "d8b187bd-7cc5-4dee-cfa2-59b9ac48b055"
   },
   "outputs": [
    {
     "name": "stdout",
     "output_type": "stream",
     "text": [
      "Basic Information:\n",
      "<class 'pandas.core.frame.DataFrame'>\n",
      "Int64Index: 6589 entries, 0 to 6588\n",
      "Data columns (total 3 columns):\n",
      " #   Column    Non-Null Count  Dtype \n",
      "---  ------    --------------  ----- \n",
      " 0   query_id  6589 non-null   int64 \n",
      " 1   doc_id    6589 non-null   object\n",
      " 2   label     6589 non-null   int64 \n",
      "dtypes: int64(2), object(1)\n",
      "memory usage: 205.9+ KB\n",
      "None\n"
     ]
    }
   ],
   "source": [
    "# Create a DataFrame for exploratory data analysis (EDA) with relevant columns\n",
    "eda_df =  merged_df[['query_id','doc_id','label']]\n",
    "\n",
    "# Print basic information about the EDA DataFrame\n",
    "print(\"Basic Information:\")\n",
    "print(eda_df.info())"
   ]
  },
  {
   "cell_type": "code",
   "execution_count": 31,
   "metadata": {
    "colab": {
     "base_uri": "https://localhost:8080/",
     "height": 410
    },
    "id": "VM3zbM15zARq",
    "outputId": "085a7202-1b53-42b6-c53a-64f88a2812ce"
   },
   "outputs": [
    {
     "data": {
      "image/png": "[encoded data removed]",
      "text/plain": [
       "<Figure size 600x400 with 1 Axes>"
      ]
     },
     "metadata": {},
     "output_type": "display_data"
    }
   ],
   "source": [
    "# Count the occurrences of each label and visualize the label distribution\n",
    "label_counts = eda_df['label'].value_counts()\n",
    "\n",
    "plt.figure(figsize=(6, 4))\n",
    "sns.countplot(data=eda_df, x='label')\n",
    "plt.title(\"Label Distribution\")\n",
    "plt.xlabel(\"Label\")\n",
    "plt.ylabel(\"Count\")\n",
    "plt.show()"
   ]
  },
  {
   "cell_type": "code",
   "execution_count": 30,
   "metadata": {
    "colab": {
     "base_uri": "https://localhost:8080/"
    },
    "id": "4ImfXFeMzAPG",
    "outputId": "2865be87-f61e-47ad-c8e0-e7980b3d082f"
   },
   "outputs": [
    {
     "name": "stdout",
     "output_type": "stream",
     "text": [
      "\n",
      "Number of unique query_ids: 200\n",
      "Number of unique doc_ids: 6486\n"
     ]
    }
   ],
   "source": [
    "# Calculate and display the number of unique query_ids and doc_ids\n",
    "unique_query_ids = eda_df['query_id'].nunique()\n",
    "unique_doc_ids = eda_df['doc_id'].nunique()\n",
    "print(f\"\\nNumber of unique query_ids: {unique_query_ids}\")\n",
    "print(f\"Number of unique doc_ids: {unique_doc_ids}\")"
   ]
  },
  {
   "cell_type": "code",
   "execution_count": 32,
   "metadata": {
    "colab": {
     "base_uri": "https://localhost:8080/",
     "height": 621
    },
    "id": "m71c-1gg6TPx",
    "outputId": "00552c28-fb14-4b6a-8731-cd4575df5508"
   },
   "outputs": [
    {
     "data": {
      "image/png": "[encoded data removed]",
      "text/plain": [
       "<Figure size 1000x600 with 1 Axes>"
      ]
     },
     "metadata": {},
     "output_type": "display_data"
    }
   ],
   "source": [
    "# Visualize the top 10 most common doc_ids\n",
    "top_doc_ids = eda_df['doc_id'].value_counts().head(10)\n",
    "plt.figure(figsize=(10, 6))\n",
    "top_doc_ids.plot(kind='bar')\n",
    "plt.title(\"Top 10 Doc IDs\")\n",
    "plt.xlabel(\"Doc ID\")\n",
    "plt.ylabel(\"Count\")\n",
    "plt.xticks(rotation=45)\n",
    "plt.show()"
   ]
  },
  {
   "cell_type": "code",
   "execution_count": 33,
   "metadata": {
    "colab": {
     "base_uri": "https://localhost:8080/",
     "height": 423
    },
    "id": "yG6eVI8F6TMX",
    "outputId": "5b7becac-0523-4852-f6e4-19b10b1e3c1f"
   },
   "outputs": [
    {
     "data": {
      "text/html": [
       "<div>\n",
       "<style scoped>\n",
       "    .dataframe tbody tr th:only-of-type {\n",
       "        vertical-align: middle;\n",
       "    }\n",
       "\n",
       "    .dataframe tbody tr th {\n",
       "        vertical-align: top;\n",
       "    }\n",
       "\n",
       "    .dataframe thead th {\n",
       "        text-align: right;\n",
       "    }\n",
       "</style>\n",
       "<table border=\"1\" class=\"dataframe\">\n",
       "  <thead>\n",
       "    <tr style=\"text-align: right;\">\n",
       "      <th></th>\n",
       "      <th>query_id</th>\n",
       "      <th>doc_count</th>\n",
       "    </tr>\n",
       "  </thead>\n",
       "  <tbody>\n",
       "    <tr>\n",
       "      <th>173</th>\n",
       "      <td>4018891</td>\n",
       "      <td>84</td>\n",
       "    </tr>\n",
       "    <tr>\n",
       "      <th>194</th>\n",
       "      <td>4406669</td>\n",
       "      <td>68</td>\n",
       "    </tr>\n",
       "    <tr>\n",
       "      <th>191</th>\n",
       "      <td>4372730</td>\n",
       "      <td>64</td>\n",
       "    </tr>\n",
       "    <tr>\n",
       "      <th>79</th>\n",
       "      <td>1866981</td>\n",
       "      <td>64</td>\n",
       "    </tr>\n",
       "    <tr>\n",
       "      <th>41</th>\n",
       "      <td>922849</td>\n",
       "      <td>60</td>\n",
       "    </tr>\n",
       "    <tr>\n",
       "      <th>...</th>\n",
       "      <td>...</td>\n",
       "      <td>...</td>\n",
       "    </tr>\n",
       "    <tr>\n",
       "      <th>197</th>\n",
       "      <td>4467100</td>\n",
       "      <td>12</td>\n",
       "    </tr>\n",
       "    <tr>\n",
       "      <th>192</th>\n",
       "      <td>4377861</td>\n",
       "      <td>9</td>\n",
       "    </tr>\n",
       "    <tr>\n",
       "      <th>146</th>\n",
       "      <td>3382736</td>\n",
       "      <td>9</td>\n",
       "    </tr>\n",
       "    <tr>\n",
       "      <th>11</th>\n",
       "      <td>224109</td>\n",
       "      <td>4</td>\n",
       "    </tr>\n",
       "    <tr>\n",
       "      <th>3</th>\n",
       "      <td>78762</td>\n",
       "      <td>3</td>\n",
       "    </tr>\n",
       "  </tbody>\n",
       "</table>\n",
       "<p>200 rows × 2 columns</p>\n",
       "</div>"
      ],
      "text/plain": [
       "     query_id  doc_count\n",
       "173   4018891         84\n",
       "194   4406669         68\n",
       "191   4372730         64\n",
       "79    1866981         64\n",
       "41     922849         60\n",
       "..        ...        ...\n",
       "197   4467100         12\n",
       "192   4377861          9\n",
       "146   3382736          9\n",
       "11     224109          4\n",
       "3       78762          3\n",
       "\n",
       "[200 rows x 2 columns]"
      ]
     },
     "execution_count": 33,
     "metadata": {},
     "output_type": "execute_result"
    }
   ],
   "source": [
    "# Group data by query_id and calculate the count of documents per query\n",
    "doc_count_per_query = eda_df.groupby('query_id')['doc_id'].count().reset_index(name='doc_count')\n",
    "\n",
    "# Sort the results by document count in descending order\n",
    "doc_count_per_query.sort_values(by='doc_count', ascending=[False])"
   ]
  },
  {
   "cell_type": "code",
   "execution_count": 34,
   "metadata": {
    "colab": {
     "base_uri": "https://localhost:8080/",
     "height": 423
    },
    "id": "8BqdPol26TJz",
    "outputId": "d506a268-cdd0-44cd-a31c-0428e1c759da"
   },
   "outputs": [
    {
     "data": {
      "text/html": [
       "<div>\n",
       "<style scoped>\n",
       "    .dataframe tbody tr th:only-of-type {\n",
       "        vertical-align: middle;\n",
       "    }\n",
       "\n",
       "    .dataframe tbody tr th {\n",
       "        vertical-align: top;\n",
       "    }\n",
       "\n",
       "    .dataframe thead th {\n",
       "        text-align: right;\n",
       "    }\n",
       "</style>\n",
       "<table border=\"1\" class=\"dataframe\">\n",
       "  <thead>\n",
       "    <tr style=\"text-align: right;\">\n",
       "      <th></th>\n",
       "      <th>query_id</th>\n",
       "      <th>doc_count</th>\n",
       "      <th>label_1_count</th>\n",
       "      <th>label_0_count</th>\n",
       "    </tr>\n",
       "  </thead>\n",
       "  <tbody>\n",
       "    <tr>\n",
       "      <th>173</th>\n",
       "      <td>4018891</td>\n",
       "      <td>84</td>\n",
       "      <td>35</td>\n",
       "      <td>49</td>\n",
       "    </tr>\n",
       "    <tr>\n",
       "      <th>194</th>\n",
       "      <td>4406669</td>\n",
       "      <td>68</td>\n",
       "      <td>41</td>\n",
       "      <td>27</td>\n",
       "    </tr>\n",
       "    <tr>\n",
       "      <th>191</th>\n",
       "      <td>4372730</td>\n",
       "      <td>64</td>\n",
       "      <td>28</td>\n",
       "      <td>36</td>\n",
       "    </tr>\n",
       "    <tr>\n",
       "      <th>79</th>\n",
       "      <td>1866981</td>\n",
       "      <td>64</td>\n",
       "      <td>19</td>\n",
       "      <td>45</td>\n",
       "    </tr>\n",
       "    <tr>\n",
       "      <th>41</th>\n",
       "      <td>922849</td>\n",
       "      <td>60</td>\n",
       "      <td>25</td>\n",
       "      <td>35</td>\n",
       "    </tr>\n",
       "    <tr>\n",
       "      <th>...</th>\n",
       "      <td>...</td>\n",
       "      <td>...</td>\n",
       "      <td>...</td>\n",
       "      <td>...</td>\n",
       "    </tr>\n",
       "    <tr>\n",
       "      <th>197</th>\n",
       "      <td>4467100</td>\n",
       "      <td>12</td>\n",
       "      <td>1</td>\n",
       "      <td>11</td>\n",
       "    </tr>\n",
       "    <tr>\n",
       "      <th>192</th>\n",
       "      <td>4377861</td>\n",
       "      <td>9</td>\n",
       "      <td>4</td>\n",
       "      <td>5</td>\n",
       "    </tr>\n",
       "    <tr>\n",
       "      <th>146</th>\n",
       "      <td>3382736</td>\n",
       "      <td>9</td>\n",
       "      <td>4</td>\n",
       "      <td>5</td>\n",
       "    </tr>\n",
       "    <tr>\n",
       "      <th>11</th>\n",
       "      <td>224109</td>\n",
       "      <td>4</td>\n",
       "      <td>1</td>\n",
       "      <td>3</td>\n",
       "    </tr>\n",
       "    <tr>\n",
       "      <th>3</th>\n",
       "      <td>78762</td>\n",
       "      <td>3</td>\n",
       "      <td>3</td>\n",
       "      <td>0</td>\n",
       "    </tr>\n",
       "  </tbody>\n",
       "</table>\n",
       "<p>200 rows × 4 columns</p>\n",
       "</div>"
      ],
      "text/plain": [
       "     query_id  doc_count  label_1_count  label_0_count\n",
       "173   4018891         84             35             49\n",
       "194   4406669         68             41             27\n",
       "191   4372730         64             28             36\n",
       "79    1866981         64             19             45\n",
       "41     922849         60             25             35\n",
       "..        ...        ...            ...            ...\n",
       "197   4467100         12              1             11\n",
       "192   4377861          9              4              5\n",
       "146   3382736          9              4              5\n",
       "11     224109          4              1              3\n",
       "3       78762          3              3              0\n",
       "\n",
       "[200 rows x 4 columns]"
      ]
     },
     "execution_count": 34,
     "metadata": {},
     "output_type": "execute_result"
    }
   ],
   "source": [
    "# Group data by query_id and calculate various statistics\n",
    "doc_count_per_query = eda_df.groupby('query_id').agg(doc_count=('doc_id', 'count'),\n",
    "                                                      label_1_count=('label', 'sum'),\n",
    "                                                      label_0_count=('label', lambda x: (x == 0).sum()),\n",
    "                                                      ).reset_index()\n",
    "\n",
    "# Sort the results by document count in descending order\n",
    "sorted_doc_count_per_query = doc_count_per_query.sort_values(by='doc_count', ascending=False)\n",
    "\n",
    "sorted_doc_count_per_query"
   ]
  },
  {
   "cell_type": "code",
   "execution_count": 35,
   "metadata": {
    "colab": {
     "base_uri": "https://localhost:8080/",
     "height": 529
    },
    "id": "Lc7vB6F56THg",
    "outputId": "4d7ecd73-f581-40c1-8e98-6429cb66ca21"
   },
   "outputs": [
    {
     "data": {
      "image/png": "[encoded data removed]",
      "text/plain": [
       "<Figure size 1000x600 with 1 Axes>"
      ]
     },
     "metadata": {},
     "output_type": "display_data"
    }
   ],
   "source": [
    "# Select the top 10 query_ids by document count\n",
    "sorted_doc_count_per_query = sorted_doc_count_per_query.head(10)\n",
    "sorted_doc_count_per_query.set_index('query_id', inplace=True)\n",
    "\n",
    "# Visualize the document count and label statistics for the top 10 query_ids\n",
    "ax = sorted_doc_count_per_query.plot(kind='bar', figsize=(10, 6))\n",
    "ax.set_ylabel('Counts')\n",
    "ax.set_xlabel('Query ID')\n",
    "ax.set_title('Counts for Different Query IDs')\n",
    "plt.xticks(rotation=0)  # Rotate x-axis labels if needed\n",
    "plt.tight_layout()\n",
    "\n",
    "# Show the plot\n",
    "plt.show()"
   ]
  },
  {
   "cell_type": "code",
   "execution_count": 36,
   "metadata": {
    "id": "xEg4cUjtzAMX"
   },
   "outputs": [],
   "source": [
    "# Merge the previously merged DataFrame with the document data based on doc_id\n",
    "merged_df_docs = merged_df.merge(df_docs, on='doc_id', how='left')"
   ]
  },
  {
   "cell_type": "code",
   "execution_count": 37,
   "metadata": {
    "colab": {
     "base_uri": "https://localhost:8080/",
     "height": 206
    },
    "id": "zn8oCLAz803E",
    "outputId": "89ccde9e-fd85-4287-e60c-7c4697bd2612"
   },
   "outputs": [
    {
     "data": {
      "text/html": [
       "<div>\n",
       "<style scoped>\n",
       "    .dataframe tbody tr th:only-of-type {\n",
       "        vertical-align: middle;\n",
       "    }\n",
       "\n",
       "    .dataframe tbody tr th {\n",
       "        vertical-align: top;\n",
       "    }\n",
       "\n",
       "    .dataframe thead th {\n",
       "        text-align: right;\n",
       "    }\n",
       "</style>\n",
       "<table border=\"1\" class=\"dataframe\">\n",
       "  <thead>\n",
       "    <tr style=\"text-align: right;\">\n",
       "      <th></th>\n",
       "      <th>query_id</th>\n",
       "      <th>text</th>\n",
       "      <th>doc_id</th>\n",
       "      <th>relevence</th>\n",
       "      <th>label</th>\n",
       "      <th>doc_text</th>\n",
       "    </tr>\n",
       "  </thead>\n",
       "  <tbody>\n",
       "    <tr>\n",
       "      <th>0</th>\n",
       "      <td>3990512</td>\n",
       "      <td>how can we get concentration onsomething?</td>\n",
       "      <td>3990512_1</td>\n",
       "      <td>4</td>\n",
       "      <td>1</td>\n",
       "      <td>For one thing, focus on what you want to achie...</td>\n",
       "    </tr>\n",
       "    <tr>\n",
       "      <th>1</th>\n",
       "      <td>3990512</td>\n",
       "      <td>how can we get concentration onsomething?</td>\n",
       "      <td>2036065_1</td>\n",
       "      <td>2</td>\n",
       "      <td>0</td>\n",
       "      <td>just by concentration</td>\n",
       "    </tr>\n",
       "    <tr>\n",
       "      <th>2</th>\n",
       "      <td>3990512</td>\n",
       "      <td>how can we get concentration onsomething?</td>\n",
       "      <td>3265991_12</td>\n",
       "      <td>2</td>\n",
       "      <td>0</td>\n",
       "      <td>concentration</td>\n",
       "    </tr>\n",
       "    <tr>\n",
       "      <th>3</th>\n",
       "      <td>3990512</td>\n",
       "      <td>how can we get concentration onsomething?</td>\n",
       "      <td>3149758_0</td>\n",
       "      <td>1</td>\n",
       "      <td>0</td>\n",
       "      <td>Diffusion is when solutes go from a higher con...</td>\n",
       "    </tr>\n",
       "    <tr>\n",
       "      <th>4</th>\n",
       "      <td>3990512</td>\n",
       "      <td>how can we get concentration onsomething?</td>\n",
       "      <td>3990512_0</td>\n",
       "      <td>3</td>\n",
       "      <td>1</td>\n",
       "      <td>Try blocking the distractions as much as possi...</td>\n",
       "    </tr>\n",
       "  </tbody>\n",
       "</table>\n",
       "</div>"
      ],
      "text/plain": [
       "   query_id                                       text      doc_id  relevence  \\\n",
       "0   3990512  how can we get concentration onsomething?   3990512_1          4   \n",
       "1   3990512  how can we get concentration onsomething?   2036065_1          2   \n",
       "2   3990512  how can we get concentration onsomething?  3265991_12          2   \n",
       "3   3990512  how can we get concentration onsomething?   3149758_0          1   \n",
       "4   3990512  how can we get concentration onsomething?   3990512_0          3   \n",
       "\n",
       "   label                                           doc_text  \n",
       "0      1  For one thing, focus on what you want to achie...  \n",
       "1      0                              just by concentration  \n",
       "2      0                                      concentration  \n",
       "3      0  Diffusion is when solutes go from a higher con...  \n",
       "4      1  Try blocking the distractions as much as possi...  "
      ]
     },
     "execution_count": 37,
     "metadata": {},
     "output_type": "execute_result"
    }
   ],
   "source": [
    "merged_df_docs.head(5)"
   ]
  },
  {
   "cell_type": "code",
   "execution_count": 43,
   "metadata": {
    "colab": {
     "base_uri": "https://localhost:8080/"
    },
    "id": "ypBAc9ojolnC",
    "outputId": "4fb9fc47-222d-471a-cc75-e84355a8f4a0"
   },
   "outputs": [
    {
     "name": "stderr",
     "output_type": "stream",
     "text": [
      "[nltk_data] Downloading package stopwords to\n",
      "[nltk_data]     C:\\Users\\FARMWISE\\AppData\\Roaming\\nltk_data...\n",
      "[nltk_data]   Package stopwords is already up-to-date!\n",
      "[nltk_data] Downloading package punkt to\n",
      "[nltk_data]     C:\\Users\\FARMWISE\\AppData\\Roaming\\nltk_data...\n",
      "[nltk_data]   Unzipping tokenizers\\punkt.zip.\n"
     ]
    },
    {
     "data": {
      "text/plain": [
       "True"
      ]
     },
     "execution_count": 43,
     "metadata": {},
     "output_type": "execute_result"
    }
   ],
   "source": [
    "import nltk\n",
    "nltk.download('stopwords')\n",
    "nltk.download('punkt')"
   ]
  },
  {
   "cell_type": "code",
   "execution_count": 39,
   "metadata": {
    "id": "mjfpjCaV80zn"
   },
   "outputs": [],
   "source": [
    "from nltk.corpus import stopwords\n",
    "stop_words = set(stopwords.words('english'))"
   ]
  },
  {
   "cell_type": "code",
   "execution_count": 47,
   "metadata": {
    "id": "sG47k8Et80wY"
   },
   "outputs": [],
   "source": [
    "#Function to perform Text Analysis\n",
    "\n",
    "def perform_text_eda(dataframe, text_column, custom_stopwords=None):\n",
    "    # Function to preprocess text\n",
    "    def preprocess_text(text):\n",
    "        # Remove punctuation and symbols using regular expressions\n",
    "        cleaned_text = re.sub(r'[^\\w\\s]', '', text)\n",
    "        return cleaned_text\n",
    "\n",
    "    # Apply preprocessing to text column\n",
    "    dataframe['cleaned_text'] = dataframe[text_column].apply(preprocess_text)\n",
    "\n",
    "    # Calculate word and character counts\n",
    "    dataframe['word_count'] = dataframe['cleaned_text'].apply(lambda x: len(word_tokenize(x)))\n",
    "    dataframe['char_count'] = dataframe['cleaned_text'].apply(lambda x: len(x))\n",
    "\n",
    "    # Calculate word frequency distribution\n",
    "    words = word_tokenize(' '.join(dataframe['cleaned_text']))\n",
    "    fdist = FreqDist(words)\n",
    "\n",
    "    # Apply stopwords if provided\n",
    "    if custom_stopwords:\n",
    "        filtered_words = [[word for word in word_tokenize(text) if word.lower() not in custom_stopwords] for text in dataframe['cleaned_text']]\n",
    "        fdist_filtered = FreqDist([word for sublist in filtered_words for word in sublist])\n",
    "    else:\n",
    "        filtered_words = words\n",
    "        fdist_filtered = fdist\n",
    "\n",
    "\n",
    "    percentile_values = np.percentile(dataframe['word_count'], percentiles)\n",
    "\n",
    "\n",
    "    plt.plot(percentiles, percentile_values, marker='o')\n",
    "    plt.title('Percentile Line Chart')\n",
    "    plt.xlabel('Percentile')\n",
    "    plt.ylabel('Value')\n",
    "    plt.grid(True)\n",
    "    plt.show()\n",
    "\n",
    "\n",
    "\n"
   ]
  },
  {
   "cell_type": "code",
   "execution_count": null,
   "metadata": {},
   "outputs": [],
   "source": [
    "\n"
   ]
  },
  {
   "cell_type": "code",
   "execution_count": 48,
   "metadata": {
    "colab": {
     "base_uri": "https://localhost:8080/",
     "height": 356
    },
    "id": "uM-TTrXR80tb",
    "outputId": "ddd64647-1cb7-4149-9af7-262a45c04bd1"
   },
   "outputs": [
    {
     "name": "stdout",
     "output_type": "stream",
     "text": [
      "        word_count   char_count\n",
      "count  6589.000000  6589.000000\n",
      "mean     45.589164   247.380483\n",
      "std      56.968753   323.042317\n",
      "min       1.000000     3.000000\n",
      "25%      15.000000    78.000000\n",
      "50%      31.000000   164.000000\n",
      "75%      56.000000   302.000000\n",
      "max     719.000000  3898.000000\n",
      "Top 10 most common words:\n",
      "[('the', 13013), ('to', 8052), ('and', 7304), ('a', 7062), ('of', 6232), ('is', 5524), ('you', 4695), ('in', 4138), ('it', 3837), ('that', 3525)]\n",
      "Top 10 most common non-stopwords:\n",
      "[('people', 1144), ('dont', 1057), ('like', 999), ('get', 981), ('would', 732), ('one', 723), ('know', 714), ('think', 699), ('make', 559), ('go', 536)]\n"
     ]
    },
    {
     "data": {
      "image/png": "[encoded data removed]",
      "text/plain": [
       "<Figure size 640x480 with 1 Axes>"
      ]
     },
     "metadata": {},
     "output_type": "display_data"
    },
    {
     "name": "stdout",
     "output_type": "stream",
     "text": [
      "TF-IDF Matrix shape: (6589, 22006)\n"
     ]
    },
    {
     "data": {
      "image/png": "[encoded data removed]",
      "text/plain": [
       "<Figure size 640x480 with 1 Axes>"
      ]
     },
     "metadata": {},
     "output_type": "display_data"
    }
   ],
   "source": [
    "\n",
    "custom_stopwords = stop_words\n",
    "\n",
    "# Call the function\n",
    "perform_text_eda(merged_df_docs, 'doc_text', custom_stopwords)\n"
   ]
  },
  {
   "cell_type": "code",
   "execution_count": null,
   "metadata": {
    "colab": {
     "base_uri": "https://localhost:8080/",
     "height": 112
    },
    "id": "kIhYenYU80qr",
    "outputId": "0b5992d9-7d2b-4c9c-bcf2-541fcbcb7093"
   },
   "outputs": [],
   "source": []
  },
  {
   "cell_type": "code",
   "execution_count": null,
   "metadata": {
    "colab": {
     "base_uri": "https://localhost:8080/",
     "height": 112
    },
    "id": "sfbPol3280oG",
    "outputId": "9616ab90-ae49-4cd5-9101-2c8f8b4b54d1"
   },
   "outputs": [],
   "source": []
  },
  {
   "cell_type": "code",
   "execution_count": 2,
   "metadata": {
    "id": "53kz0-CQzAJs"
   },
   "outputs": [],
   "source": []
  },
  {
   "cell_type": "code",
   "execution_count": null,
   "metadata": {
    "id": "mEthme3fzAHI"
   },
   "outputs": [],
   "source": []
  }
 ],
 "metadata": {
  "colab": {
   "provenance": []
  },
  "kernelspec": {
   "display_name": "Python 3 (ipykernel)",
   "language": "python",
   "name": "python3"
  },
  "language_info": {
   "codemirror_mode": {
    "name": "ipython",
    "version": 3
   },
   "file_extension": ".py",
   "mimetype": "text/x-python",
   "name": "python",
   "nbconvert_exporter": "python",
   "pygments_lexer": "ipython3",
   "version": "3.11.4"
  }
 },
 "nbformat": 4,
 "nbformat_minor": 1
}
